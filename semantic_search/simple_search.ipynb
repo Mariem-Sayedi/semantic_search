{
 "cells": [
  {
   "cell_type": "markdown",
   "id": "8e1e04f0",
   "metadata": {},
   "source": [
    "Recherche par défaut avec l'api https://preprod-api.lafoirfouille.fr/occ/v2/products/search/"
   ]
  },
  {
   "cell_type": "code",
   "execution_count": 31,
   "id": "731ffa65",
   "metadata": {},
   "outputs": [],
   "source": [
    "import requests\n",
    "\n",
    "session = requests.Session()\n",
    "\n",
    "def get_access_token():\n",
    "    url = \"https://preprod-api.lafoirfouille.fr/occ/v2/token\"\n",
    "\n",
    "    response = session.get(url)\n",
    "\n",
    "    print(\"Status:\", response.status_code)\n",
    "    print(\"Body:\", response.text)\n",
    "\n",
    "    if response.status_code == 200:\n",
    "        data = response.json()\n",
    "        return data.get(\"access_token\")\n",
    "    return None\n"
   ]
  },
  {
   "cell_type": "code",
   "execution_count": 32,
   "id": "00f0a476",
   "metadata": {},
   "outputs": [],
   "source": [
    "def fetch_and_display_products(query):\n",
    "    url = \"https://preprod-api.lafoirfouille.fr/occ/v2/products/search/\"\n",
    "    \n",
    "    token = get_access_token()\n",
    "    \n",
    "    headers = {\n",
    "    \"Authorization\": f\"Bearer {token}\",\n",
    "    \"Accept\": \"application/json\"\n",
    "    }\n",
    "    \n",
    "    cookies = {\"preferredStoreCode\": \"0458\"}\n",
    "\n",
    "    params = {\"text\": query}\n",
    "    response = requests.get(url, headers=headers, params=params)\n",
    "\n",
    "    if response.status_code == 200:\n",
    "        products = response.json()\n",
    "        if products and 'searchPageData' in products and 'results' in products['searchPageData']:\n",
    "            product_list = products['searchPageData']['results']\n",
    "            table_data = [[p.get('name', 'N/A')] for p in product_list]\n",
    "            if table_data:\n",
    "              return product_list\n",
    "    print(\"erreur ou aucun produit trouvé.\")\n",
    "    return []"
   ]
  },
  {
   "cell_type": "code",
   "execution_count": 33,
   "id": "b788b74c",
   "metadata": {},
   "outputs": [
    {
     "name": "stdout",
     "output_type": "stream",
     "text": [
      "Status: 200\n",
      "Body: {\"access_token\":\"Y4PuEFToRfbCvptiHqUQ0vpiMVE\",\"token_type\":\"bearer\",\"refresh_token\":\"iHlvQxiquErY9saNWFVyr8fVXec\",\"expires_in\":31692,\"scope\":\"extended openid\"}\n",
      "\n",
      "Produits uniques trouvés :\n",
      "----------------------------------\n",
      "  produit : Portefeuille 3 volets\n",
      "  produit : PORTEFEUILLE ITALIEN BLINDE\n",
      "  produit : Portefeuille Bico - Différents coloris\n",
      "  produit : Portefeuille extra plat - Gris\n",
      "  produit : Portefeuille plat - Différents coloris\n",
      "  produit : Portefeuille 2 volets - Différents coloris\n",
      "  produit : Portefeuille blindé Bico - Différents coloris\n",
      "  produit : Coffret portefeuille, stylo et porte-clés\n",
      "  produit : Portefeuille en polyester - 8,5 x 12 cm - Noir\n",
      "  produit : Portefeuille en polyester - 8,5 x 12 cm - Noir, Bleu\n",
      "  produit : Portefeuille en polyester - 8,5 x 12 cm - Noir, Orange\n",
      "  produit : Portefeuille en polyester - 8,5 x 12 cm - Noir, Vert\n",
      "  produit : Portefeuille en polyester - 8,5 x 12 cm - Noir, Rose\n",
      "  produit : Portefeuille - L 11.5 x H 12.5 x 2 cm\n",
      "  produit : Portefeuille - L 11.5 x H 11 x 2 cm\n",
      "  produit : Portefeuille \"Maman d'amour\" - 11.5 x H 9.5 cm - Rouge\n",
      "  produit : Portefeuille - L 14.5 x H 10.5 x 2.5 cm\n",
      "  produit : Portefeuille étoile - 3 x 9 x H 10 cm - KINSTON\n",
      "  produit : Portefeuille étoile - 2 x 11 x H 11 cm - KINSTON\n",
      "  produit : Portefeuille \"Papa parfait\" - 11.5 x H 9.5 cm - Bleu et orange\n",
      "  produit : Portefeuille textile femme etoile - L 12 x H 9.5 x 1cm\n",
      "  produit : Portefeuille 1 volet - L 12 x H 9 x 1 cm\n",
      "  produit : Portefeuille bicolore blindé - L 9.6 x l 12 cm - Multicolore - COLOR POP\n",
      "  produit : Portefeuille bicolore blindé - L 13.2 x l 9.3 cm - Multicolore - COLOR POP\n",
      "  produit : Portefeuille monnaie simili cuir multicompartiment pression - L 19 x H 10 x 3\n",
      "  produit : Portefeuille / cartes 3 volets simili cuir - L 15 x H 10.5 x 1\n",
      "  produit : Portefeuille synthétique 1 volet petit modèle - L 12 x H 9.5 x 1\n",
      "  produit : Portefeuille synthétique chaine 2 coloris - L 14 x H 10 x 1 cm\n",
      "  produit : Portefeuille 3 volets simili cuir - L 15 x H 10.5 x 1 cm\n",
      "  produit : Portefeuille simili cuir graine et textile - L 15 x H 10 x 3.5 cm\n",
      "  produit : Portefeuille / monnaie synthétique + canard zip int. 2 volets - L 11.5 x H 10 x 2\n",
      "  produit : Portefeuille monnaie simili cuir graine et lisse - L 15 x H 10 x 2.5 cm\n",
      "  produit : Portefeuille monnaie simili cuir graine et lisse - L 13 x H 10 x 3 cm\n",
      "  produit : Portefeuille / monnaie synthétique + canard bouton pression 3 volets - L 9 x H 10 x 2\n",
      "  produit : Portefeuille complet simili cuir gm fermeture pression - L 20.5 x H 11 x 2 cm\n",
      "  produit : Portefeuille synthétique 3 volets poche zippée + pression - L 18 x H 10 x 3 cm\n",
      "  produit : Portefeuille textile avec scratch avec trois volets - L 13.5 x H 10 x 1.5 cm\n",
      "  produit : Portefeuille synthétique double volet gm 2 coloris - L 14.5 x H 10.5 x 1 cm\n",
      "  produit : Portefeuille extra-plat anti-piratage de carte - L 6 x l 9 cm - Multicolore - COLOR POP\n",
      "  produit : Portefeuille extra-plat anti-piratage de carte - L 10.4 x l 7.4 cm - Multicolore - COLOR POP\n",
      "  produit : Portefeuille homme simili cuir pression rangement pièces - L 12.5 x H 10 x 2 cm\n",
      "  produit : Portefeuille / monnaie synthétique + dessin canard zip int. 2 volets - L 11.5 x H 10 x 2\n",
      "----------------------------------\n"
     ]
    }
   ],
   "source": [
    "seen_ids = set()\n",
    "search_results = []\n",
    "\n",
    "produits = fetch_and_display_products(\"portefeuille\")\n",
    "\n",
    "if not produits:\n",
    "    print(\"aucun produit trouvé.\")\n",
    "else:\n",
    "    for prod in produits:\n",
    "        prod_id = prod.get('code')\n",
    "        if prod_id and prod_id not in seen_ids:\n",
    "            seen_ids.add(prod_id)\n",
    "            search_results.append(prod)\n",
    "\n",
    "    if not search_results:\n",
    "        print(\"aucun produit unique trouvé.\")\n",
    "    else:\n",
    "        print(\"\\nProduits uniques trouvés :\")\n",
    "        print(\"-\" * 34)\n",
    "        for prod in search_results:\n",
    "            nom = prod.get(\"name\", \"Nom indisponible\")\n",
    "            print(f\"  produit : {nom}\")\n",
    "        print(\"-\" * 34)\n"
   ]
  }
 ],
 "metadata": {
  "kernelspec": {
   "display_name": "venv",
   "language": "python",
   "name": "python3"
  },
  "language_info": {
   "codemirror_mode": {
    "name": "ipython",
    "version": 3
   },
   "file_extension": ".py",
   "mimetype": "text/x-python",
   "name": "python",
   "nbconvert_exporter": "python",
   "pygments_lexer": "ipython3",
   "version": "3.12.3"
  }
 },
 "nbformat": 4,
 "nbformat_minor": 5
}
