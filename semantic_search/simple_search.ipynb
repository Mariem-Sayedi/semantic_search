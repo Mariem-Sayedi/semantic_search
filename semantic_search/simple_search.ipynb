{
 "cells": [
  {
   "cell_type": "markdown",
   "id": "8e1e04f0",
   "metadata": {},
   "source": [
    "Recherche par défaut avec l'api https://preprod-api.lafoirfouille.fr/occ/v2/products/search/"
   ]
  },
  {
   "cell_type": "code",
   "execution_count": 1,
   "id": "731ffa65",
   "metadata": {},
   "outputs": [],
   "source": [
    "import requests\n",
    "\n",
    "# Création d'une session persistante\n",
    "session = requests.Session()\n",
    "\n",
    "# 1. Requête vers /token\n",
    "def get_access_token():\n",
    "    url = \"https://preprod-api.lafoirfouille.fr/occ/v2/token\"\n",
    "\n",
    "    response = session.get(url)\n",
    "\n",
    "    print(\"Status:\", response.status_code)\n",
    "    print(\"Body:\", response.text)\n",
    "\n",
    "    if response.status_code == 200:\n",
    "        data = response.json()\n",
    "        return data.get(\"access_token\")\n",
    "    return None\n"
   ]
  },
  {
   "cell_type": "code",
   "execution_count": 2,
   "id": "00f0a476",
   "metadata": {},
   "outputs": [],
   "source": [
    "def fetch_and_display_products(query):\n",
    "    url = \"https://preprod-api.lafoirfouille.fr/occ/v2/products/search/\"\n",
    "    \n",
    "    token = get_access_token()\n",
    "    \n",
    "    headers = {\n",
    "    \"Authorization\": f\"Bearer {token}\",\n",
    "    \"Accept\": \"application/json\"\n",
    "    }\n",
    "    \n",
    "    params = {\"text\": query}\n",
    "    response = requests.get(url, headers=headers, params=params)\n",
    "\n",
    "    if response.status_code == 200:\n",
    "        products = response.json()\n",
    "        if products and 'searchPageData' in products and 'results' in products['searchPageData']:\n",
    "            product_list = products['searchPageData']['results']\n",
    "            table_data = [[p.get('name', 'N/A')] for p in product_list]\n",
    "            if table_data:\n",
    "              return product_list\n",
    "    print(\"erreur ou aucun produit trouvé.\")\n",
    "    return []"
   ]
  },
  {
   "cell_type": "code",
   "execution_count": 3,
   "id": "b788b74c",
   "metadata": {},
   "outputs": [
    {
     "name": "stdout",
     "output_type": "stream",
     "text": [
      "Status: 200\n",
      "Body: {\"access_token\":\"PZvwDWZIcF9Icn4fRA30Tlb1xIc\",\"token_type\":\"bearer\",\"refresh_token\":\"I1fWWT7f_S8esTw0HrU75QMZdKE\",\"expires_in\":25500,\"scope\":\"extended openid\"}\n",
      "\n",
      "Produits uniques trouvés :\n",
      "----------------------------------\n",
      "  produit : Table blanc\n",
      "  produit : Protège-table - Blanc\n",
      "  produit : 24 sets de table - Blanc\n",
      "  produit : Protège-table - Blanc, vert\n",
      "  produit : 24 sets de table - Blanc ivoire\n",
      "  produit : Marque-tables blanc dore x 10\n",
      "  produit : Trio de tables assorties à moduler - Différents modèles - ø 45 x H 36 cm (la table) - Blanc - HOME DECO FACTORY\n",
      "  produit : Table de Beer Pong Tableau blanc\n",
      "  produit : deco table  mariage effet bois blanchi blanc\n",
      "  produit : Tablette mix blanc\n",
      "  produit : Tableau blanc effaçable\n",
      "  produit : VENTILATEUR TABLE40CM BLANC\n",
      "  produit : Tableau blanc effaçable - 29 x 22 cm - Blanc, Noir\n",
      "  produit : Table d'appoint - Blanc\n",
      "  produit : Centre de table orchidées blanches - Plastique - 50 x H 15 cm - Blanc et gris\n",
      "  produit : Tableau blanc magnétique - L 40 x l 60 cm - Blanc\n",
      "  produit : Meuble 3 tablettes - Blanc\n",
      "  produit : deco table bois  table des enfants blanc\n",
      "  produit : Rouleau sticker pour tableau blanc\n",
      "  produit : Meuble métal 2 tablettes - Blanc\n",
      "  produit : Table à café Kate - Blanc\n",
      "  produit : Corbeilles de table Albatre - Blanc\n",
      "  produit : CHEMIN DE TABLE FANON BLANC\n",
      "  produit : CHEMIN TABLE RAINBOW BLANC\n",
      "  produit : CHEMIN TABLE DENTELLE BLANC\n",
      "  produit : Table Café Metsa - Blanc\n",
      "  produit : Table à café Mileo - Blanc\n",
      "  produit : Table coffre Oshi - Blanc\n",
      "  produit : Protège-table Imp - Blanc\n",
      "  produit : Table basse pavane blanc\n",
      "  produit : COUTEAU DE TABLE CITY BLANC\n",
      "  produit : CHEMIN TABLE PLUMETIS BLANC\n",
      "  produit : Table d'appoint panier - Blanc\n",
      "  produit : Set de table Aero - Blanc\n",
      "  produit : Table à café Jym - Blanc\n",
      "  produit : CHEMIN TABLE STRASS BLANC\n",
      "  produit : Chemin de table fiesta blanc\n",
      "  produit : Protège-table Lina - Blanc\n",
      "  produit : deco table  bapteme blanc\n",
      "  produit : Table gigogne ovale - Blanc\n",
      "  produit : Protège-table Samia - Blanc\n",
      "  produit : Corbeilles de table Albatre - Blanc\n",
      "----------------------------------\n"
     ]
    }
   ],
   "source": [
    "seen_ids = set()\n",
    "search_results = []\n",
    "\n",
    "produits = fetch_and_display_products(\"table blanche\")\n",
    "\n",
    "if not produits:\n",
    "    print(\"aucun produit trouvé.\")\n",
    "else:\n",
    "    for prod in produits:\n",
    "        prod_id = prod.get('code')\n",
    "        if prod_id and prod_id not in seen_ids:\n",
    "            seen_ids.add(prod_id)\n",
    "            search_results.append(prod)\n",
    "\n",
    "    if not search_results:\n",
    "        print(\"aucun produit unique trouvé.\")\n",
    "    else:\n",
    "        print(\"\\nProduits uniques trouvés :\")\n",
    "        print(\"-\" * 34)\n",
    "        for prod in search_results:\n",
    "            nom = prod.get(\"name\", \"Nom indisponible\")\n",
    "            print(f\"  produit : {nom}\")\n",
    "        print(\"-\" * 34)\n"
   ]
  }
 ],
 "metadata": {
  "kernelspec": {
   "display_name": "venv",
   "language": "python",
   "name": "python3"
  },
  "language_info": {
   "codemirror_mode": {
    "name": "ipython",
    "version": 3
   },
   "file_extension": ".py",
   "mimetype": "text/x-python",
   "name": "python",
   "nbconvert_exporter": "python",
   "pygments_lexer": "ipython3",
   "version": "3.12.3"
  }
 },
 "nbformat": 4,
 "nbformat_minor": 5
}
