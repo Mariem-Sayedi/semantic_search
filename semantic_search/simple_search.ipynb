{
 "cells": [
  {
   "cell_type": "markdown",
   "id": "8e1e04f0",
   "metadata": {},
   "source": [
    "Recherche par défaut avec l'api https://preprod-api.lafoirfouille.fr/occ/v2/products/search/"
   ]
  },
  {
   "cell_type": "code",
   "execution_count": 7,
   "id": "731ffa65",
   "metadata": {},
   "outputs": [],
   "source": [
    "import requests\n",
    "\n",
    "session = requests.Session()\n",
    "\n",
    "def get_access_token():\n",
    "    url = \"https://preprod-api.lafoirfouille.fr/occ/v2/token\"\n",
    "\n",
    "    response = session.get(url)\n",
    "\n",
    "    print(\"Status:\", response.status_code)\n",
    "    print(\"Body:\", response.text)\n",
    "\n",
    "    if response.status_code == 200:\n",
    "        data = response.json()\n",
    "        return data.get(\"access_token\")\n",
    "    return None\n"
   ]
  },
  {
   "cell_type": "code",
   "execution_count": 8,
   "id": "00f0a476",
   "metadata": {},
   "outputs": [],
   "source": [
    "def fetch_and_display_products(query):\n",
    "    url = \"https://preprod-api.lafoirfouille.fr/occ/v2/products/search/\"\n",
    "    \n",
    "    token = get_access_token()\n",
    "    \n",
    "    headers = {\n",
    "    \"Authorization\": f\"Bearer {token}\",\n",
    "    \"Accept\": \"application/json\"\n",
    "    }\n",
    "    \n",
    "    params = {\"text\": query}\n",
    "    response = requests.get(url, headers=headers, params=params)\n",
    "\n",
    "    if response.status_code == 200:\n",
    "        products = response.json()\n",
    "        if products and 'searchPageData' in products and 'results' in products['searchPageData']:\n",
    "            product_list = products['searchPageData']['results']\n",
    "            table_data = [[p.get('name', 'N/A')] for p in product_list]\n",
    "            if table_data:\n",
    "              return product_list\n",
    "    print(\"erreur ou aucun produit trouvé.\")\n",
    "    return []"
   ]
  },
  {
   "cell_type": "code",
   "execution_count": 9,
   "id": "b788b74c",
   "metadata": {},
   "outputs": [
    {
     "name": "stdout",
     "output_type": "stream",
     "text": [
      "Status: 200\n",
      "Body: {\"access_token\":\"k9hEy0CXC7qRMsixB5vs7BiwJ5w\",\"token_type\":\"bearer\",\"refresh_token\":\"tipdfKbpDiiryxNcnhemR39dH8o\",\"expires_in\":33090,\"scope\":\"extended openid\"}\n",
      "erreur ou aucun produit trouvé.\n",
      "aucun produit trouvé.\n"
     ]
    }
   ],
   "source": [
    "seen_ids = set()\n",
    "search_results = []\n",
    "\n",
    "produits = fetch_and_display_products(\"table blanche\")\n",
    "\n",
    "if not produits:\n",
    "    print(\"aucun produit trouvé.\")\n",
    "else:\n",
    "    for prod in produits:\n",
    "        prod_id = prod.get('code')\n",
    "        if prod_id and prod_id not in seen_ids:\n",
    "            seen_ids.add(prod_id)\n",
    "            search_results.append(prod)\n",
    "\n",
    "    if not search_results:\n",
    "        print(\"aucun produit unique trouvé.\")\n",
    "    else:\n",
    "        print(\"\\nProduits uniques trouvés :\")\n",
    "        print(\"-\" * 34)\n",
    "        for prod in search_results:\n",
    "            nom = prod.get(\"name\", \"Nom indisponible\")\n",
    "            print(f\"  produit : {nom}\")\n",
    "        print(\"-\" * 34)\n"
   ]
  }
 ],
 "metadata": {
  "kernelspec": {
   "display_name": "venv",
   "language": "python",
   "name": "python3"
  },
  "language_info": {
   "codemirror_mode": {
    "name": "ipython",
    "version": 3
   },
   "file_extension": ".py",
   "mimetype": "text/x-python",
   "name": "python",
   "nbconvert_exporter": "python",
   "pygments_lexer": "ipython3",
   "version": "3.12.3"
  }
 },
 "nbformat": 4,
 "nbformat_minor": 5
}
