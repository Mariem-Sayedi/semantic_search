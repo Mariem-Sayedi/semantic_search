{
 "cells": [
  {
   "cell_type": "markdown",
   "id": "c0b00047",
   "metadata": {},
   "source": [
    "Correction orthographique"
   ]
  },
  {
   "cell_type": "code",
   "execution_count": null,
   "id": "acc077a2",
   "metadata": {},
   "outputs": [],
   "source": [
    "from spellchecker import SpellChecker\n",
    "\n",
    "spell = SpellChecker(language='fr')\n",
    "\n",
    "def corriger_requete(query: str) -> str:\n",
    "    return \" \".join(spell.correction(mot) or mot for mot in query.split())\n",
    "\n",
    "# Exemple d'exécution\n",
    "print(corriger_requete(\"bicyclette eletrique puissante\"))\n"
   ]
  },
  {
   "cell_type": "markdown",
   "id": "1b8bd0f8",
   "metadata": {},
   "source": [
    "Mots similaires avec FastText"
   ]
  },
  {
   "cell_type": "code",
   "execution_count": null,
   "id": "c2a57de3",
   "metadata": {},
   "outputs": [],
   "source": [
    "import fasttext\n",
    "from functools import lru_cache\n",
    "\n",
    "@lru_cache(maxsize=1)\n",
    "def get_fasttext_model():\n",
    "    return fasttext.load_model(\"semantic_search/cc.fr.300.bin\")\n",
    "\n",
    "def get_similar_words(word: str, k=5, threshold=0.5):\n",
    "    try:\n",
    "        model = get_fasttext_model()\n",
    "        if word not in model.words:\n",
    "            return []\n",
    "        voisins = model.get_nearest_neighbors(word)\n",
    "        return [w for score, w in voisins if score >= threshold and w != word][:k]\n",
    "    except Exception as e:\n",
    "        print(f\"Erreur : {e}\")\n",
    "        return []\n",
    "\n",
    "# Exemple d'exécution\n",
    "print(get_similar_words(\"chaussure\"))\n"
   ]
  },
  {
   "cell_type": "markdown",
   "id": "ddc69504",
   "metadata": {},
   "source": [
    "Filtrage des mots français"
   ]
  },
  {
   "cell_type": "code",
   "execution_count": null,
   "id": "29a3bbc5",
   "metadata": {},
   "outputs": [],
   "source": [
    "import enchant\n",
    "\n",
    "dico_fr = enchant.Dict(\"fr_FR\")\n",
    "\n",
    "def filtrer_mots_francais(termes):\n",
    "    return {mot for mot in termes if dico_fr.check(mot)}\n",
    "\n",
    "# Exemple d'exécution\n",
    "print(filtrer_mots_francais({\"chaussure\", \"zapato\", \"maison\"}))\n"
   ]
  },
  {
   "cell_type": "markdown",
   "id": "7971a027",
   "metadata": {},
   "source": [
    "Lemmatisation "
   ]
  },
  {
   "cell_type": "code",
   "execution_count": null,
   "id": "6e2e8b21",
   "metadata": {},
   "outputs": [],
   "source": [
    "from nltk.stem import WordNetLemmatizer\n",
    "import nltk\n",
    "\n",
    "nltk.download('wordnet', quiet=True)\n",
    "\n",
    "lemmatizer = WordNetLemmatizer()\n",
    "\n",
    "def lemming_termes(termes):\n",
    "    return {lemmatizer.lemmatize(terme) for terme in termes}\n",
    "\n",
    "# Exemple d'exécution\n",
    "print(lemming_termes({\"chaussures\", \"maisons\", \"jouets\"}))\n"
   ]
  },
  {
   "cell_type": "markdown",
   "id": "58246e43",
   "metadata": {},
   "source": [
    "Extraction des noms"
   ]
  },
  {
   "cell_type": "code",
   "execution_count": null,
   "id": "003641af",
   "metadata": {},
   "outputs": [],
   "source": [
    "import stanza\n",
    "\n",
    "stanza.download('fr', processors='tokenize,pos,lemma', verbose=False)\n",
    "nlp_fr = stanza.Pipeline(lang='fr', processors='tokenize,pos,lemma', use_gpu=False, verbose=False)\n",
    "\n",
    "def process_with_stanza(termes):\n",
    "    noms = set()\n",
    "    doc = nlp_fr(\" \".join(termes))\n",
    "    for sentence in doc.sentences:\n",
    "        for word in sentence.words:\n",
    "            if word.upos != 'VERB':\n",
    "                noms.add(word.text.lower())\n",
    "    return noms\n",
    "\n",
    "# Exemple d'exécution\n",
    "print(process_with_stanza([\"acheter\", \"chaussures\", \"enfants\"]))\n"
   ]
  },
  {
   "cell_type": "markdown",
   "id": "803372bb",
   "metadata": {},
   "source": [
    "Modèle de phrase transformer"
   ]
  },
  {
   "cell_type": "code",
   "execution_count": null,
   "id": "af7b4a4e",
   "metadata": {},
   "outputs": [],
   "source": [
    "from sentence_transformers import SentenceTransformer\n",
    "from functools import lru_cache\n",
    "\n",
    "@lru_cache(maxsize=1)\n",
    "def get_sentence_model():\n",
    "    return SentenceTransformer('sentence-transformers/all-MiniLM-L6-v2')\n",
    "\n",
    "# Exemple d'exécution\n",
    "model = get_sentence_model()\n",
    "print(model.encode([\"chaussure électrique\", \"vélo pliant\"]).shape)\n"
   ]
  },
  {
   "cell_type": "markdown",
   "id": "117f2181",
   "metadata": {},
   "source": []
  }
 ],
 "metadata": {
  "language_info": {
   "name": "python"
  }
 },
 "nbformat": 4,
 "nbformat_minor": 5
}
