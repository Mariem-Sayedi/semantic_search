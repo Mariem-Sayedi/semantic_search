{
 "cells": [
  {
   "cell_type": "markdown",
   "id": "8e1e04f0",
   "metadata": {},
   "source": [
    "Recherche par défaut avec l'api https://preprod-api.lafoirfouille.fr/occ/v2/products/search/"
   ]
  },
  {
   "cell_type": "code",
   "execution_count": 21,
   "id": "731ffa65",
   "metadata": {},
   "outputs": [],
   "source": [
    "import requests\n",
    "\n",
    "# Création d'une session persistante\n",
    "session = requests.Session()\n",
    "\n",
    "# 1. Requête vers /token\n",
    "def get_access_token():\n",
    "    url = \"https://preprod-api.lafoirfouille.fr/occ/v2/token\"\n",
    "\n",
    "    response = session.get(url)\n",
    "\n",
    "    print(\"Status:\", response.status_code)\n",
    "    print(\"Body:\", response.text)\n",
    "\n",
    "    if response.status_code == 200:\n",
    "        data = response.json()\n",
    "        return data.get(\"access_token\")\n",
    "    return None\n"
   ]
  },
  {
   "cell_type": "code",
   "execution_count": 23,
   "id": "00f0a476",
   "metadata": {},
   "outputs": [],
   "source": [
    "def fetch_and_display_products(query):\n",
    "    url = \"https://preprod-api.lafoirfouille.fr/occ/v2/products/search/\"\n",
    "    \n",
    "    headers = {\n",
    "    \"Authorization\": f\"Bearer {token}\",\n",
    "    \"Accept\": \"application/json\"\n",
    "    }\n",
    "    \n",
    "    params = {\"text\": query}\n",
    "    response = requests.get(url, headers=headers, params=params)\n",
    "\n",
    "    if response.status_code == 200:\n",
    "        products = response.json()\n",
    "        if products and 'searchPageData' in products and 'results' in products['searchPageData']:\n",
    "            product_list = products['searchPageData']['results']\n",
    "            table_data = [[p.get('name', 'N/A')] for p in product_list]\n",
    "            if table_data:\n",
    "              return product_list\n",
    "    print(\"erreur ou aucun produit trouvé.\")\n",
    "    return []"
   ]
  },
  {
   "cell_type": "code",
   "execution_count": 24,
   "id": "b788b74c",
   "metadata": {},
   "outputs": [
    {
     "name": "stdout",
     "output_type": "stream",
     "text": [
      "\n",
      "Produits uniques trouvés :\n",
      "----------------------------------\n",
      "  produit : Distributeur de savon automatique - 220 ml - Gris, Noir\n",
      "  produit : Distributeur automatique de savon et gel - 33 cl - Blanc\n",
      "  produit : Distributeur de savon\n",
      "  produit : DISTRIBUTEUR DE SAVON\n",
      "  produit : Distributeur savon\n",
      "  produit : Distributeur de savon Bambou\n",
      "  produit : Distributeur de savon imprimé\n",
      "  produit : Distributeur de savon Equatorial\n",
      "  produit : Distributeur à savon - Cuivre\n",
      "  produit : Distributeur de savon à pois\n",
      "  produit : Distributeur de savon en verre\n",
      "  produit : Distributeur de savon - Blanc\n",
      "  produit : Distributeur de savon - Gris\n",
      "  produit : Distributeur savon + eponge\n",
      "  produit : Distributeur savon masai\n",
      "  produit : Distributeur savon stone\n",
      "  produit : Distributeur de savon + accessoires\n",
      "  produit : Distributeur savon precious\n",
      "  produit : Distributeur savon verre\n",
      "  produit : DISTRIBUTEUR DE SAVON NOEL\n",
      "  produit : Distributeur de savon automatique en inox - 9,5 x 8,5 x 20 cm - Gris\n",
      "  produit : Distributeur savon Silk Tropical\n",
      "  produit : DISTRIBUTEUR A SAVON JARDIN\n",
      "  produit : DISTRIBUTEUR A SAVON COPEN\n",
      "  produit : DISTRIBUTEUR A SAVON  FJORD\n",
      "  produit : Distributeur de savon relief - Blanc\n",
      "  produit : Distributeur de savon Indigo - K.KOON\n",
      "  produit : Distributeur de savon - Jaune miel\n",
      "  produit : Distributeur de savon - Vert kaki\n",
      "  produit : Distributeur de savon strié - Gris\n",
      "  produit : Distributeur de savon strié - Taupe\n",
      "  produit : Distributeur de savon bambou - Noir\n",
      "  produit : Distributeur savon - Plastique - Rouge\n",
      "  produit : Distributeur de savon Green Harmony\n",
      "  produit : DISTRIBUTEUR A SAVON  MANOIR\n",
      "  produit : Distributeur savon Silk - Blanc\n",
      "  produit : Distributeur savon Natureo blanc\n",
      "  produit : Distributeur à savon en grès - Gris\n",
      "  produit : DISTRIBUTEUR A SAVON DOLOMITE\n",
      "  produit : Distributeur de savon - 410 ml\n",
      "  produit : Distributeur de savon Modern - Noir\n",
      "  produit : Distributeur de savon - 280 ml\n",
      "----------------------------------\n"
     ]
    }
   ],
   "source": [
    "seen_ids = set()\n",
    "search_results = []\n",
    "\n",
    "produits = fetch_and_display_products(\"distributeur savon automatique\")\n",
    "\n",
    "if not produits:\n",
    "    print(\"aucun produit trouvé.\")\n",
    "else:\n",
    "    for prod in produits:\n",
    "        prod_id = prod.get('code')\n",
    "        if prod_id and prod_id not in seen_ids:\n",
    "            seen_ids.add(prod_id)\n",
    "            search_results.append(prod)\n",
    "\n",
    "    if not search_results:\n",
    "        print(\"aucun produit unique trouvé.\")\n",
    "    else:\n",
    "        print(\"\\nProduits uniques trouvés :\")\n",
    "        print(\"-\" * 34)\n",
    "        for prod in search_results:\n",
    "            nom = prod.get(\"name\", \"Nom indisponible\")\n",
    "            print(f\"  produit : {nom}\")\n",
    "        print(\"-\" * 34)\n"
   ]
  }
 ],
 "metadata": {
  "kernelspec": {
   "display_name": "venv",
   "language": "python",
   "name": "python3"
  },
  "language_info": {
   "codemirror_mode": {
    "name": "ipython",
    "version": 3
   },
   "file_extension": ".py",
   "mimetype": "text/x-python",
   "name": "python",
   "nbconvert_exporter": "python",
   "pygments_lexer": "ipython3",
   "version": "3.12.3"
  }
 },
 "nbformat": 4,
 "nbformat_minor": 5
}
